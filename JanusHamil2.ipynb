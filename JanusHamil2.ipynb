{
  "nbformat": 4,
  "nbformat_minor": 0,
  "metadata": {
    "colab": {
      "provenance": [],
      "gpuType": "T4",
      "authorship_tag": "ABX9TyMNWFDygkwKaJ/KwFwsUMl/",
      "include_colab_link": true
    },
    "kernelspec": {
      "name": "python3",
      "display_name": "Python 3"
    },
    "language_info": {
      "name": "python"
    },
    "accelerator": "GPU"
  },
  "cells": [
    {
      "cell_type": "markdown",
      "metadata": {
        "id": "view-in-github",
        "colab_type": "text"
      },
      "source": [
        "<a href=\"https://colab.research.google.com/github/jonathanrbelanger-lang/Clutterfly/blob/main/JanusHamil2.ipynb\" target=\"_parent\"><img src=\"https://colab.research.google.com/assets/colab-badge.svg\" alt=\"Open In Colab\"/></a>"
      ]
    },
    {
      "cell_type": "code",
      "execution_count": null,
      "metadata": {
        "id": "wAtrDkJgILTc"
      },
      "outputs": [],
      "source": [
        "import torch\n",
        "import numpy as np\n",
        "from scipy.linalg import eigh\n",
        "import warnings\n",
        "\n",
        "# --- Setup Constants ---\n",
        "E_STATE = -60.0\n",
        "E_TRANS = -2.00\n",
        "D_LOCAL = 16\n",
        "\n",
        "# Utility functions (re-using index_to_bits from previous cell)\n",
        "def index_to_bits(k):\n",
        "    b0 = k % 2\n",
        "    b1 = (k // 2) % 2\n",
        "    b2 = (k // 4) % 2\n",
        "    b3 = (k // 8) % 2\n",
        "    return np.array([b3, b2, b1, b0])\n",
        "\n",
        "def generate_OP_matrix_new():\n",
        "    \"\"\"Generates O_P = sum(sigma_z_i) for 4 qubits (Same as before).\"\"\"\n",
        "    P = np.zeros((D_LOCAL, D_LOCAL), dtype=np.float64)\n",
        "    for k in range(D_LOCAL):\n",
        "        bits = index_to_bits(k)\n",
        "        diag_value = np.sum((-1)**bits)\n",
        "        P[k, k] = diag_value\n",
        "    return P\n",
        "\n",
        "def generate_OF_matrix_new():\n",
        "    \"\"\"Generates O'_F = sigma^x_0 * sigma^z_1 * sigma^z_2 * sigma^z_3 for 4 qubits.\"\"\"\n",
        "    F = np.zeros((D_LOCAL, D_LOCAL), dtype=np.float64)\n",
        "    for k in range(D_LOCAL):\n",
        "        bits = index_to_bits(k)\n",
        "        b3, b2, b1, b0 = bits\n",
        "\n",
        "        # Calculate the Z-product factor from qubits 1, 2, 3\n",
        "        z_prod_factor = (-1)**(b1 + b2 + b3)\n",
        "\n",
        "        if b0 == 0:\n",
        "            k_prime = k + 1  # Flip b0 to 1\n",
        "            # F_k,k' = <0|sigma^x_0|1> * Z_prod = 1 * Z_prod\n",
        "            F[k, k_prime] = z_prod_factor\n",
        "            F[k_prime, k] = z_prod_factor # Symmetric since O'F is Hermitian\n",
        "\n",
        "    return F\n",
        "\n",
        "# --- Diagonalization ---\n",
        "P_matrix = generate_OP_matrix_new()\n",
        "F_matrix = generate_OF_matrix_new()\n",
        "H_site_new = E_STATE * P_matrix + E_TRANS * F_matrix\n",
        "\n",
        "# Use eigh since H is Hermitian\n",
        "E_values_new, E_vectors_new = eigh(H_site_new)\n",
        "\n",
        "print(\"--- Restricted D=16 Spectrum Analysis (New Hamiltonian Structure) ---\")\n",
        "print(f\"Ground State Energy E0: {E_values_new[0]:.4f}\")\n",
        "print(f\"Gap (0->1): {E_values_new[1] - E_values_new[0]:.4f}\")\n",
        "print(f\"Number of unique eigenvalues found: {len(np.unique(np.round(E_values_new, 4)))}\")"
      ]
    }
  ]
}